{
 "cells": [
  {
   "cell_type": "markdown",
   "metadata": {},
   "source": [
    "---\n",
    "# **Web and app Development**\n",
    "---"
   ]
  },
  {
   "cell_type": "markdown",
   "metadata": {},
   "source": [
    "\n",
    "## 1. Web pages (**`Statics`**)\n"
   ]
  },
  {
   "cell_type": "markdown",
   "metadata": {},
   "source": [
    "- **GitHub web pages** \n",
    "    - `https://<user_OR_org>.github.io/<online-repo>/`\n",
    "- **Jupyter Book**\n",
    "    - @VmeanSETH-kH's [`jupyter-book-tutorials`](https://vmeanseth-kh.github.io/jupyter-book-tutorials/chapter-1.html)\n",
    "---"
   ]
  },
  {
   "cell_type": "markdown",
   "metadata": {},
   "source": [
    "## 2. Web Servers (**`Dynamics`**)"
   ]
  },
  {
   "cell_type": "markdown",
   "metadata": {},
   "source": [
    "- **GitHub online repository**\n",
    "    - `https://<user_OR_org>/<online-repo>/`\n",
    "- **Render**\n",
    "    - `https://dashboard.render.com/`\n",
    "    - [`render-tutorials`](https://docs.render.com/)\n",
    "---\n",
    "\n",
    "### **Coding resource**\n",
    "- `Python`\n",
    "- `Flask` or `Django`\n",
    "- `HTML`, `CSS`, `JavaScript`\n",
    "\n",
    "---"
   ]
  },
  {
   "cell_type": "markdown",
   "metadata": {},
   "source": [
    "## **お疲れ様でした** \n",
    " "
   ]
  }
 ],
 "metadata": {
  "language_info": {
   "codemirror_mode": {
    "name": "ipython",
    "version": 3
   },
   "file_extension": ".py",
   "mimetype": "text/x-python",
   "name": "python",
   "nbconvert_exporter": "python",
   "pygments_lexer": "ipython3",
   "version": "3.12.0"
  }
 },
 "nbformat": 4,
 "nbformat_minor": 2
}